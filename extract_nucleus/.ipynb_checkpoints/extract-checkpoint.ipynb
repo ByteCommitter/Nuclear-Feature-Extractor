{
 "cells": [
  {
   "cell_type": "markdown",
   "metadata": {},
   "source": [
    "# Setup and Installation\n",
    "Install and import required libraries including cellpose, numpy, matplotlib, and skimage. Set up GPU support if available."
   ]
  },
  {
   "cell_type": "code",
   "execution_count": null,
   "metadata": {},
   "outputs": [],
   "source": [
    "!pip install cellpose numpy matplotlib scikit-image"
   ]
  },
  {
   "cell_type": "code",
   "execution_count": null,
   "metadata": {},
   "outputs": [],
   "source": [
    "# Install required libraries\n",
    "\n",
    "# Import required libraries\n",
    "import numpy as np\n",
    "import matplotlib.pyplot as plt\n",
    "from skimage import io\n",
    "from cellpose import models, io\n",
    "\n",
    "# Check if GPU is available and set up GPU support\n",
    "use_GPU = models.use_gpu()\n",
    "print(f\"GPU support: {'Available' if use_GPU else 'Not available'}\")"
   ]
  },
  {
   "cell_type": "markdown",
   "metadata": {},
   "source": [
    "# Load and Preprocess Image\n",
    "Load large microscopy images using appropriate methods (tifffile/bioformats). Implement memory-efficient loading for large files and basic preprocessing steps."
   ]
  },
  {
   "cell_type": "code",
   "execution_count": null,
   "metadata": {},
   "outputs": [],
   "source": [
    "# Load large microscopy images using tifffile for memory-efficient loading\n",
    "import tifffile as tiff\n",
    "\n",
    "# Define the path to the large microscopy image\n",
    "image_path = 'path/to/large_image.tiff'\n",
    "\n",
    "# Load the image using tifffile\n",
    "image = tiff.imread(image_path)\n",
    "\n",
    "# Display basic information about the image\n",
    "print(f\"Image shape: {image.shape}\")\n",
    "print(f\"Image dtype: {image.dtype}\")\n",
    "\n",
    "# Display the first frame of the image (assuming multi-frame TIFF)\n",
    "plt.figure(figsize=(10, 10))\n",
    "plt.imshow(image[0], cmap='gray')\n",
    "plt.title('First Frame of the Image')\n",
    "plt.axis('off')\n",
    "plt.show()\n",
    "\n",
    "# Basic preprocessing: normalize the image\n",
    "image_normalized = (image - np.min(image)) / (np.max(image) - np.min(image))\n",
    "\n",
    "# Display the normalized first frame of the image\n",
    "plt.figure(figsize=(10, 10))\n",
    "plt.imshow(image_normalized[0], cmap='gray')\n",
    "plt.title('Normalized First Frame of the Image')\n",
    "plt.axis('off')\n",
    "plt.show()"
   ]
  },
  {
   "cell_type": "markdown",
   "metadata": {},
   "source": [
    "# Configure Cellpose Model\n",
    "Initialize Cellpose model with 'nuclei' model type. Configure parameters like cell diameter, flow threshold, and other model-specific settings."
   ]
  },
  {
   "cell_type": "code",
   "execution_count": null,
   "metadata": {},
   "outputs": [],
   "source": [
    "# Configure Cellpose Model\n",
    "\n",
    "# Initialize Cellpose model with 'nuclei' model type\n",
    "model = models.Cellpose(gpu=use_GPU, model_type='nuclei')\n",
    "\n",
    "# Configure parameters\n",
    "cell_diameter = 30  # Example diameter, adjust based on your data\n",
    "flow_threshold = 0.4  # Example flow threshold, adjust based on your data\n",
    "cellprob_threshold = 0.0  # Example cell probability threshold, adjust based on your data\n",
    "\n",
    "# Print model configuration\n",
    "print(f\"Model type: {model.model_type}\")\n",
    "print(f\"Cell diameter: {cell_diameter}\")\n",
    "print(f\"Flow threshold: {flow_threshold}\")\n",
    "print(f\"Cell probability threshold: {cellprob_threshold}\")"
   ]
  },
  {
   "cell_type": "markdown",
   "metadata": {},
   "source": [
    "# Perform Nuclear Segmentation\n",
    "Run Cellpose segmentation on the preprocessed image. Include error handling for large images and memory management strategies."
   ]
  },
  {
   "cell_type": "code",
   "execution_count": null,
   "metadata": {},
   "outputs": [],
   "source": [
    "# Perform Nuclear Segmentation\n",
    "\n",
    "# Run Cellpose segmentation on the preprocessed image\n",
    "try:\n",
    "    # Segment the image using Cellpose\n",
    "    masks, flows, styles, diams = model.eval(\n",
    "        image_normalized, \n",
    "        diameter=cell_diameter, \n",
    "        flow_threshold=flow_threshold, \n",
    "        cellprob_threshold=cellprob_threshold\n",
    "    )\n",
    "    \n",
    "    # Display the segmentation results for the first frame\n",
    "    plt.figure(figsize=(10, 10))\n",
    "    plt.imshow(masks[0], cmap='gray')\n",
    "    plt.title('Segmentation Mask of the First Frame')\n",
    "    plt.axis('off')\n",
    "    plt.show()\n",
    "    \n",
    "    # Save the segmentation masks to a file\n",
    "    output_path = 'path/to/segmentation_masks.tiff'\n",
    "    tiff.imwrite(output_path, masks.astype(np.uint16))\n",
    "    print(f\"Segmentation masks saved to {output_path}\")\n",
    "\n",
    "except MemoryError:\n",
    "    print(\"MemoryError: The image is too large to process in memory. Consider processing the image in smaller chunks.\")\n",
    "except Exception as e:\n",
    "    print(f\"An error occurred during segmentation: {e}\")"
   ]
  },
  {
   "cell_type": "markdown",
   "metadata": {},
   "source": [
    "# Visualize Results\n",
    "Display original image, segmentation masks, and overlay views. Include options for adjusting visualization parameters."
   ]
  },
  {
   "cell_type": "code",
   "execution_count": null,
   "metadata": {},
   "outputs": [],
   "source": [
    "# Visualize Results\n",
    "\n",
    "# Display the original image, segmentation masks, and overlay views\n",
    "def visualize_results(image, masks, frame_idx=0, alpha=0.5):\n",
    "    \"\"\"\n",
    "    Visualize the original image, segmentation masks, and overlay views.\n",
    "    \n",
    "    Parameters:\n",
    "    - image: Original image array.\n",
    "    - masks: Segmentation masks array.\n",
    "    - frame_idx: Index of the frame to visualize (default is 0).\n",
    "    - alpha: Transparency level for the overlay (default is 0.5).\n",
    "    \"\"\"\n",
    "    # Original image\n",
    "    plt.figure(figsize=(15, 5))\n",
    "    plt.subplot(1, 3, 1)\n",
    "    plt.imshow(image[frame_idx], cmap='gray')\n",
    "    plt.title('Original Image')\n",
    "    plt.axis('off')\n",
    "    \n",
    "    # Segmentation mask\n",
    "    plt.subplot(1, 3, 2)\n",
    "    plt.imshow(masks[frame_idx], cmap='gray')\n",
    "    plt.title('Segmentation Mask')\n",
    "    plt.axis('off')\n",
    "    \n",
    "    # Overlay view\n",
    "    plt.subplot(1, 3, 3)\n",
    "    plt.imshow(image[frame_idx], cmap='gray')\n",
    "    plt.imshow(masks[frame_idx], cmap='jet', alpha=alpha)\n",
    "    plt.title('Overlay View')\n",
    "    plt.axis('off')\n",
    "    \n",
    "    plt.show()\n",
    "\n",
    "# Visualize the results for the first frame\n",
    "visualize_results(image_normalized, masks, frame_idx=0, alpha=0.5)"
   ]
  },
  {
   "cell_type": "markdown",
   "metadata": {},
   "source": [
    "# Export Segmentation Masks\n",
    "Save segmentation results in appropriate format (TIFF/HDF5). Include metadata and parameters used for segmentation."
   ]
  },
  {
   "cell_type": "code",
   "execution_count": null,
   "metadata": {},
   "outputs": [],
   "source": [
    "# Export Segmentation Masks\n",
    "\n",
    "import h5py\n",
    "\n",
    "# Define the output paths for TIFF and HDF5 formats\n",
    "output_tiff_path = 'path/to/segmentation_masks.tiff'\n",
    "output_hdf5_path = 'path/to/segmentation_masks.h5'\n",
    "\n",
    "# Save the segmentation masks as a TIFF file\n",
    "tiff.imwrite(output_tiff_path, masks.astype(np.uint16))\n",
    "print(f\"Segmentation masks saved to {output_tiff_path}\")\n",
    "\n",
    "# Save the segmentation masks and metadata as an HDF5 file\n",
    "with h5py.File(output_hdf5_path, 'w') as hdf5_file:\n",
    "    # Create a dataset for the masks\n",
    "    hdf5_file.create_dataset('masks', data=masks.astype(np.uint16))\n",
    "    \n",
    "    # Add metadata as attributes\n",
    "    hdf5_file.attrs['model_type'] = model.model_type\n",
    "    hdf5_file.attrs['cell_diameter'] = cell_diameter\n",
    "    hdf5_file.attrs['flow_threshold'] = flow_threshold\n",
    "    hdf5_file.attrs['cellprob_threshold'] = cellprob_threshold\n",
    "    hdf5_file.attrs['image_shape'] = image.shape\n",
    "    hdf5_file.attrs['image_dtype'] = str(image.dtype)\n",
    "    \n",
    "    print(f\"Segmentation masks and metadata saved to {output_hdf5_path}\")"
   ]
  },
  {
   "cell_type": "markdown",
   "metadata": {},
   "source": [
    "# Batch Processing\n",
    "Implement functions for batch processing multiple images with progress tracking and error handling."
   ]
  },
  {
   "cell_type": "code",
   "execution_count": null,
   "metadata": {},
   "outputs": [],
   "source": [
    "# Batch Processing\n",
    "\n",
    "import os\n",
    "from tqdm import tqdm\n",
    "\n",
    "def batch_process_images(image_dir, output_dir, model, cell_diameter, flow_threshold, cellprob_threshold):\n",
    "    \"\"\"\n",
    "    Batch process multiple images for nuclear segmentation using Cellpose.\n",
    "    \n",
    "    Parameters:\n",
    "    - image_dir: Directory containing input images.\n",
    "    - output_dir: Directory to save the segmentation masks.\n",
    "    - model: Initialized Cellpose model.\n",
    "    - cell_diameter: Diameter of the cells for segmentation.\n",
    "    - flow_threshold: Flow threshold for Cellpose.\n",
    "    - cellprob_threshold: Cell probability threshold for Cellpose.\n",
    "    \"\"\"\n",
    "    # Ensure the output directory exists\n",
    "    os.makedirs(output_dir, exist_ok=True)\n",
    "    \n",
    "    # Get a list of image files in the directory\n",
    "    image_files = [f for f in os.listdir(image_dir) if f.endswith('.tiff')]\n",
    "    \n",
    "    # Process each image file\n",
    "    for image_file in tqdm(image_files, desc=\"Processing images\"):\n",
    "        try:\n",
    "            # Load the image\n",
    "            image_path = os.path.join(image_dir, image_file)\n",
    "            image = tiff.imread(image_path)\n",
    "            \n",
    "            # Normalize the image\n",
    "            image_normalized = (image - np.min(image)) / (np.max(image) - np.min(image))\n",
    "            \n",
    "            # Perform segmentation\n",
    "            masks, flows, styles, diams = model.eval(\n",
    "                image_normalized, \n",
    "                diameter=cell_diameter, \n",
    "                flow_threshold=flow_threshold, \n",
    "                cellprob_threshold=cellprob_threshold\n",
    "            )\n",
    "            \n",
    "            # Save the segmentation masks\n",
    "            output_path = os.path.join(output_dir, f\"{os.path.splitext(image_file)[0]}_masks.tiff\")\n",
    "            tiff.imwrite(output_path, masks.astype(np.uint16))\n",
    "        \n",
    "        except MemoryError:\n",
    "            print(f\"MemoryError: The image {image_file} is too large to process in memory. Skipping this image.\")\n",
    "        except Exception as e:\n",
    "            print(f\"An error occurred while processing {image_file}: {e}\")\n",
    "\n",
    "# Example usage\n",
    "image_dir = 'path/to/image_directory'\n",
    "output_dir = 'path/to/output_directory'\n",
    "batch_process_images(image_dir, output_dir, model, cell_diameter, flow_threshold, cellprob_threshold)"
   ]
  }
 ],
 "metadata": {
  "language_info": {
   "name": "python"
  }
 },
 "nbformat": 4,
 "nbformat_minor": 2
}
